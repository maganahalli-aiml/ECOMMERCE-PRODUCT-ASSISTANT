{
 "cells": [
  {
   "cell_type": "code",
   "execution_count": 3,
   "id": "48f23417",
   "metadata": {},
   "outputs": [
    {
     "name": "stdout",
     "output_type": "stream",
     "text": [
      "Note: you may need to restart the kernel to use updated packages.\n"
     ]
    }
   ],
   "source": [
    "%pip install -qU langchain langchain-community pypdf"
   ]
  },
  {
   "cell_type": "code",
   "execution_count": 4,
   "id": "db52b76b",
   "metadata": {},
   "outputs": [],
   "source": [
    "from langchain_community.document_loaders import PyPDFLoader\n",
    "file_path = \"/Users/alampata/Desktop/LLMOPS/ECOMMERCE-PRODUCT-ASSISTANT/notebook/NIPS-2017-attention-is-all-you-need-Paper.pdf\"\n",
    "loader = PyPDFLoader(file_path)\n",
    "pages = []\n",
    "async for page in loader.alazy_load():\n",
    "    pages.append(page)"
   ]
  },
  {
   "cell_type": "code",
   "execution_count": 11,
   "id": "4af31198",
   "metadata": {},
   "outputs": [
    {
     "data": {
      "text/plain": [
       "Document(metadata={'producer': 'PyPDF2', 'creator': 'PyPDF', 'creationdate': '', 'subject': 'Neural Information Processing Systems http://nips.cc/', 'publisher': 'Curran Associates, Inc.', 'language': 'en-US', 'created': '2017', 'eventtype': 'Poster', 'description-abstract': 'The dominant sequence transduction models are based on complex recurrent orconvolutional neural networks in an encoder and decoder configuration. The best performing such models also connect the encoder and decoder through an attentionm echanisms.  We propose a novel, simple network architecture based solely onan attention mechanism, dispensing with recurrence and convolutions entirely.Experiments on two machine translation tasks show these models to be superiorin quality while being more parallelizable and requiring significantly less timeto train. Our single model with 165 million parameters, achieves 27.5 BLEU onEnglish-to-German translation, improving over the existing best ensemble result by over 1 BLEU. On English-to-French translation, we outperform the previoussingle state-of-the-art with model by 0.7 BLEU, achieving a BLEU score of 41.1.', 'title': 'Attention is All you Need', 'date': '2017', 'moddate': '2018-02-12T21:22:10-08:00', 'published': '2017', 'type': 'Conference Proceedings', 'firstpage': '5998', 'book': 'Advances in Neural Information Processing Systems 30', 'description': 'Paper accepted and presented at the Neural Information Processing Systems Conference (http://nips.cc/)', 'editors': 'I. Guyon and U.V. Luxburg and S. Bengio and H. Wallach and R. Fergus and S. Vishwanathan and R. Garnett', 'author': 'Ashish Vaswani, Noam Shazeer, Niki Parmar, Jakob Uszkoreit, Llion Jones, Aidan N. Gomez, Łukasz Kaiser, Illia Polosukhin', 'lastpage': '6008', 'source': '/Users/alampata/Desktop/LLMOPS/ECOMMERCE-PRODUCT-ASSISTANT/notebook/NIPS-2017-attention-is-all-you-need-Paper.pdf', 'total_pages': 11, 'page': 0, 'page_label': '1'}, page_content='Attention Is All You Need\\nAshish Vaswani∗\\nGoogle Brain\\navaswani@google.com\\nNoam Shazeer∗\\nGoogle Brain\\nnoam@google.com\\nNiki Parmar∗\\nGoogle Research\\nnikip@google.com\\nJakob Uszkoreit∗\\nGoogle Research\\nusz@google.com\\nLlion Jones∗\\nGoogle Research\\nllion@google.com\\nAidan N. Gomez∗†\\nUniversity of Toronto\\naidan@cs.toronto.edu\\nŁukasz Kaiser ∗\\nGoogle Brain\\nlukaszkaiser@google.com\\nIllia Polosukhin∗‡\\nillia.polosukhin@gmail.com\\nAbstract\\nThe dominant sequence transduction models are based on complex recurrent or\\nconvolutional neural networks that include an encoder and a decoder. The best\\nperforming models also connect the encoder and decoder through an attention\\nmechanism. We propose a new simple network architecture, the Transformer,\\nbased solely on attention mechanisms, dispensing with recurrence and convolutions\\nentirely. Experiments on two machine translation tasks show these models to\\nbe superior in quality while being more parallelizable and requiring signiﬁcantly\\nless time to train. Our model achieves 28.4 BLEU on the WMT 2014 English-\\nto-German translation task, improving over the existing best results, including\\nensembles, by over 2 BLEU. On the WMT 2014 English-to-French translation task,\\nour model establishes a new single-model state-of-the-art BLEU score of 41.0 after\\ntraining for 3.5 days on eight GPUs, a small fraction of the training costs of the\\nbest models from the literature.\\n1 Introduction\\nRecurrent neural networks, long short-term memory [12] and gated recurrent [7] neural networks\\nin particular, have been ﬁrmly established as state of the art approaches in sequence modeling and\\ntransduction problems such as language modeling and machine translation [ 29, 2, 5]. Numerous\\nefforts have since continued to push the boundaries of recurrent language models and encoder-decoder\\narchitectures [31, 21, 13].\\n∗Equal contribution. Listing order is random. Jakob proposed replacing RNNs with self-attention and started\\nthe effort to evaluate this idea. Ashish, with Illia, designed and implemented the ﬁrst Transformer models and\\nhas been crucially involved in every aspect of this work. Noam proposed scaled dot-product attention, multi-head\\nattention and the parameter-free position representation and became the other person involved in nearly every\\ndetail. Niki designed, implemented, tuned and evaluated countless model variants in our original codebase and\\ntensor2tensor. Llion also experimented with novel model variants, was responsible for our initial codebase, and\\nefﬁcient inference and visualizations. Lukasz and Aidan spent countless long days designing various parts of and\\nimplementing tensor2tensor, replacing our earlier codebase, greatly improving results and massively accelerating\\nour research.\\n†Work performed while at Google Brain.\\n‡Work performed while at Google Research.\\n31st Conference on Neural Information Processing Systems (NIPS 2017), Long Beach, CA, USA.')"
      ]
     },
     "execution_count": 11,
     "metadata": {},
     "output_type": "execute_result"
    }
   ],
   "source": [
    "pages[0]\n",
    "#print(f\"{pages[0].metadata}\\n\")\n",
    "#print(pages[0].page_content)\n",
    "\n",
    "\n"
   ]
  },
  {
   "cell_type": "code",
   "execution_count": 12,
   "id": "d3a01939",
   "metadata": {},
   "outputs": [
    {
     "name": "stdout",
     "output_type": "stream",
     "text": [
      "[Document(metadata={'source': '/Users/alampata/Desktop/LLMOPS/ECOMMERCE-PRODUCT-ASSISTANT/data/product_reviews.csv', 'row': 0}, page_content=\"product_id: itme5ae89135d44e\\nproduct_title: Google Pixel 6a (Chalk, 128 GB)\\nrating: 4.3\\ntotal_reviews: 8,524\\nprice: ₹38,492\\ntop_reviews: 4 Pretty good Good READ MORE M Lakshmi Prasanna Kumar Certified Buyer , Tadpatri Sep, 2022 668 70 Permalink Report Abuse || 4 Nice product Nice mobile... READ MORE Haribabu Uppari Certified Buyer , Hyderabad Aug, 2022 353 33 Permalink Report Abuse || 4 Wonderful Well, it's Pixel READ MORE Omkar Shinde Certified Buyer , Pimpri Chinchwad Aug, 2022 225 20 Permalink Report Abuse || 4 Worth the money Gud at camera,, improved battery than pixel 4a,, Heat issues there,, maybe reduced in next update,, performance wise ok,, Still it maybe well designed READ MORE Dhayanithi GK Certified Buyer Aug, 2022 39 1 Permalink Report Abuse\"), Document(metadata={'source': '/Users/alampata/Desktop/LLMOPS/ECOMMERCE-PRODUCT-ASSISTANT/data/product_reviews.csv', 'row': 1}, page_content=\"product_id: itme5ae89135d44e\\nproduct_title: Google Pixel 6a (Charcoal, 128 GB)\\nrating: 4.3\\ntotal_reviews: 8,524\\nprice: ₹43,999\\ntop_reviews: 4 Pretty good Good READ MORE M Lakshmi Prasanna Kumar Certified Buyer , Tadpatri Sep, 2022 668 70 Permalink Report Abuse || 4 Nice product Nice mobile... READ MORE Haribabu Uppari Certified Buyer , Hyderabad Aug, 2022 353 33 Permalink Report Abuse || 4 Wonderful Well, it's Pixel READ MORE Omkar Shinde Certified Buyer , Pimpri Chinchwad Aug, 2022 225 20 Permalink Report Abuse || 4 Worth the money Gud at camera,, improved battery than pixel 4a,, Heat issues there,, maybe reduced in next update,, performance wise ok,, Still it maybe well designed READ MORE Dhayanithi GK Certified Buyer Aug, 2022 39 1 Permalink Report Abuse\")]\n"
     ]
    }
   ],
   "source": [
    "from langchain_community.document_loaders.csv_loader import CSVLoader\n",
    "\n",
    "file_path=\"/Users/alampata/Desktop/LLMOPS/ECOMMERCE-PRODUCT-ASSISTANT/data/product_reviews.csv\"\n",
    "loader = CSVLoader(file_path)\n",
    "\n",
    "data = loader.load()\n",
    "\n",
    "print(data)"
   ]
  },
  {
   "cell_type": "code",
   "execution_count": 16,
   "id": "8218245c",
   "metadata": {},
   "outputs": [
    {
     "name": "stdout",
     "output_type": "stream",
     "text": [
      "[Document(metadata={'source': '/Users/alampata/Desktop/LLMOPS/ECOMMERCE-PRODUCT-ASSISTANT/data/product_reviews.csv', 'row': 0}, page_content='product_id: product_id\\nproduct_title: product_title\\nrating: rating\\ntotal_reviews: total_reviews\\nprice: price\\ntop_reviews: top_reviews'), Document(metadata={'source': '/Users/alampata/Desktop/LLMOPS/ECOMMERCE-PRODUCT-ASSISTANT/data/product_reviews.csv', 'row': 1}, page_content=\"product_id: itme5ae89135d44e\\nproduct_title: Google Pixel 6a (Chalk, 128 GB)\\nrating: 4.3\\ntotal_reviews: 8,524\\nprice: ₹38,492\\ntop_reviews: 4 Pretty good Good READ MORE M Lakshmi Prasanna Kumar Certified Buyer , Tadpatri Sep, 2022 668 70 Permalink Report Abuse || 4 Nice product Nice mobile... READ MORE Haribabu Uppari Certified Buyer , Hyderabad Aug, 2022 353 33 Permalink Report Abuse || 4 Wonderful Well, it's Pixel READ MORE Omkar Shinde Certified Buyer , Pimpri Chinchwad Aug, 2022 225 20 Permalink Report Abuse || 4 Worth the money Gud at camera,, improved battery than pixel 4a,, Heat issues there,, maybe reduced in next update,, performance wise ok,, Still it maybe well designed READ MORE Dhayanithi GK Certified Buyer Aug, 2022 39 1 Permalink Report Abuse\"), Document(metadata={'source': '/Users/alampata/Desktop/LLMOPS/ECOMMERCE-PRODUCT-ASSISTANT/data/product_reviews.csv', 'row': 2}, page_content=\"product_id: itme5ae89135d44e\\nproduct_title: Google Pixel 6a (Charcoal, 128 GB)\\nrating: 4.3\\ntotal_reviews: 8,524\\nprice: ₹43,999\\ntop_reviews: 4 Pretty good Good READ MORE M Lakshmi Prasanna Kumar Certified Buyer , Tadpatri Sep, 2022 668 70 Permalink Report Abuse || 4 Nice product Nice mobile... READ MORE Haribabu Uppari Certified Buyer , Hyderabad Aug, 2022 353 33 Permalink Report Abuse || 4 Wonderful Well, it's Pixel READ MORE Omkar Shinde Certified Buyer , Pimpri Chinchwad Aug, 2022 225 20 Permalink Report Abuse || 4 Worth the money Gud at camera,, improved battery than pixel 4a,, Heat issues there,, maybe reduced in next update,, performance wise ok,, Still it maybe well designed READ MORE Dhayanithi GK Certified Buyer Aug, 2022 39 1 Permalink Report Abuse\")]\n",
      "<class 'list'>\n"
     ]
    }
   ],
   "source": [
    "loader = CSVLoader(\n",
    "    file_path=\"/Users/alampata/Desktop/LLMOPS/ECOMMERCE-PRODUCT-ASSISTANT/data/product_reviews.csv\",\n",
    "    csv_args={\n",
    "        \"delimiter\": \",\",\n",
    "        \"quotechar\": '\"',\n",
    "        \"fieldnames\": [\"product_id\", \"product_title\", \"rating\", \"total_reviews\", \"price\", \"top_reviews\"],\n",
    "    },\n",
    ")\n",
    "\n",
    "data = loader.load()\n",
    "\n",
    "print(data)\n",
    "# print data type is List[Document]\n",
    "print(type(data))"
   ]
  },
  {
   "cell_type": "code",
   "execution_count": 20,
   "id": "d419c819",
   "metadata": {},
   "outputs": [],
   "source": [
    "from langchain.schema import Document\n",
    "import pandas as pd\n",
    "\n",
    "def transform_data(data):\n",
    "    \"\"\"\n",
    "    Transform product data into list of LangChain Document objects.\n",
    "    \"\"\"\n",
    "    documents = []\n",
    "    \n",
    "    # If data is already a list of Documents from CSVLoader, extract the content\n",
    "    if isinstance(data, list) and len(data) > 0 and hasattr(data[0], 'page_content'):\n",
    "        # Convert Document objects back to DataFrame for processing\n",
    "        rows = []\n",
    "        for doc in data:\n",
    "            # Parse the page_content which contains CSV row data\n",
    "            content = doc.page_content\n",
    "            # Split by lines and parse\n",
    "            lines = content.strip().split('\\n')\n",
    "            for line in lines:\n",
    "                if line.strip():\n",
    "                    # Parse CSV-like content\n",
    "                    parts = line.split(': ', 1)\n",
    "                    if len(parts) == 2:\n",
    "                        key, value = parts\n",
    "                        if not hasattr(transform_data, 'current_row'):\n",
    "                            transform_data.current_row = {}\n",
    "                        transform_data.current_row[key] = value\n",
    "            \n",
    "            if hasattr(transform_data, 'current_row'):\n",
    "                rows.append(transform_data.current_row.copy())\n",
    "                delattr(transform_data, 'current_row')\n",
    "        \n",
    "        # Create DataFrame from parsed data\n",
    "        if rows:\n",
    "            df = pd.DataFrame(rows)\n",
    "        else:\n",
    "            # If parsing fails, create sample data for demonstration\n",
    "            df = pd.DataFrame({\n",
    "                'product_id': ['P001', 'P002'],\n",
    "                'product_title': ['Sample Product 1', 'Sample Product 2'],\n",
    "                'rating': ['4.5', '4.0'],\n",
    "                'total_reviews': ['100', '150'],\n",
    "                'price': ['$29.99', '$39.99'],\n",
    "                'top_reviews': ['Great product!', 'Good value for money']\n",
    "            })\n",
    "    else:\n",
    "        # If data is already a DataFrame\n",
    "        df = data\n",
    "    \n",
    "    # Transform DataFrame to Document objects\n",
    "    for _, row in df.iterrows():\n",
    "        metadata = {\n",
    "            \"product_id\": row.get(\"product_id\", \"\"),\n",
    "            \"product_title\": row.get(\"product_title\", \"\"),\n",
    "            \"rating\": row.get(\"rating\", \"\"),\n",
    "            \"total_reviews\": row.get(\"total_reviews\", \"\"),\n",
    "            \"price\": row.get(\"price\", \"\")\n",
    "        }\n",
    "        doc = Document(\n",
    "            page_content=row.get(\"top_reviews\", \"\"), \n",
    "            metadata=metadata\n",
    "        )\n",
    "        documents.append(doc)\n",
    "\n",
    "    print(f\"Transformed {len(documents)} documents.\")\n",
    "    return documents"
   ]
  },
  {
   "cell_type": "code",
   "execution_count": 21,
   "id": "e48a42d9",
   "metadata": {},
   "outputs": [
    {
     "name": "stdout",
     "output_type": "stream",
     "text": [
      "Transformed 3 documents.\n"
     ]
    },
    {
     "data": {
      "text/plain": [
       "[Document(metadata={'product_id': 'product_id', 'product_title': 'product_title', 'rating': 'rating', 'total_reviews': 'total_reviews', 'price': 'price'}, page_content='top_reviews'),\n",
       " Document(metadata={'product_id': 'itme5ae89135d44e', 'product_title': 'Google Pixel 6a (Chalk, 128 GB)', 'rating': '4.3', 'total_reviews': '8,524', 'price': '₹38,492'}, page_content=\"4 Pretty good Good READ MORE M Lakshmi Prasanna Kumar Certified Buyer , Tadpatri Sep, 2022 668 70 Permalink Report Abuse || 4 Nice product Nice mobile... READ MORE Haribabu Uppari Certified Buyer , Hyderabad Aug, 2022 353 33 Permalink Report Abuse || 4 Wonderful Well, it's Pixel READ MORE Omkar Shinde Certified Buyer , Pimpri Chinchwad Aug, 2022 225 20 Permalink Report Abuse || 4 Worth the money Gud at camera,, improved battery than pixel 4a,, Heat issues there,, maybe reduced in next update,, performance wise ok,, Still it maybe well designed READ MORE Dhayanithi GK Certified Buyer Aug, 2022 39 1 Permalink Report Abuse\"),\n",
       " Document(metadata={'product_id': 'itme5ae89135d44e', 'product_title': 'Google Pixel 6a (Charcoal, 128 GB)', 'rating': '4.3', 'total_reviews': '8,524', 'price': '₹43,999'}, page_content=\"4 Pretty good Good READ MORE M Lakshmi Prasanna Kumar Certified Buyer , Tadpatri Sep, 2022 668 70 Permalink Report Abuse || 4 Nice product Nice mobile... READ MORE Haribabu Uppari Certified Buyer , Hyderabad Aug, 2022 353 33 Permalink Report Abuse || 4 Wonderful Well, it's Pixel READ MORE Omkar Shinde Certified Buyer , Pimpri Chinchwad Aug, 2022 225 20 Permalink Report Abuse || 4 Worth the money Gud at camera,, improved battery than pixel 4a,, Heat issues there,, maybe reduced in next update,, performance wise ok,, Still it maybe well designed READ MORE Dhayanithi GK Certified Buyer Aug, 2022 39 1 Permalink Report Abuse\")]"
      ]
     },
     "execution_count": 21,
     "metadata": {},
     "output_type": "execute_result"
    }
   ],
   "source": [
    "transform_data(data)"
   ]
  }
 ],
 "metadata": {
  "kernelspec": {
   "display_name": "prod-assistant",
   "language": "python",
   "name": "python3"
  },
  "language_info": {
   "codemirror_mode": {
    "name": "ipython",
    "version": 3
   },
   "file_extension": ".py",
   "mimetype": "text/x-python",
   "name": "python",
   "nbconvert_exporter": "python",
   "pygments_lexer": "ipython3",
   "version": "3.10.18"
  }
 },
 "nbformat": 4,
 "nbformat_minor": 5
}
